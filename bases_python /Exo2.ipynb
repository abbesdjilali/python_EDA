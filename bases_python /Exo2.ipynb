{
 "cells": [
  {
   "cell_type": "code",
   "execution_count": 1,
   "metadata": {},
   "outputs": [
    {
     "name": "stdout",
     "output_type": "stream",
     "text": [
      "P( 2  , 3 )\n",
      "P( 1  , -5 , 6)\n"
     ]
    }
   ],
   "source": [
    "# Exercice 1 compte bancaire\n",
    "class Point:\n",
    "    def __init__(self, x, y, z=None):\n",
    "        self.x = x;\n",
    "        self.y = y;\n",
    "        self.z = z;\n",
    "\n",
    "    def ToString(self):\n",
    "        print(\"P(\", self.x, \" ,\", self.y,self.z == None and \")\" or  \", \"+str(self.z) + \")\")\n",
    "\n",
    "        \n",
    "        \n",
    "        \n",
    "#Exo 2\n",
    "P1 = Point(2,3);\n",
    "P1.ToString();\n",
    "P2=Point(1,-5,6)\n",
    "P2.ToString()"
   ]
  },
  {
   "cell_type": "markdown",
   "metadata": {},
   "source": []
  }
 ],
 "metadata": {
  "kernelspec": {
   "display_name": "Python 3",
   "language": "python",
   "name": "python3"
  },
  "language_info": {
   "codemirror_mode": {
    "name": "ipython",
    "version": 3
   },
   "file_extension": ".py",
   "mimetype": "text/x-python",
   "name": "python",
   "nbconvert_exporter": "python",
   "pygments_lexer": "ipython3",
   "version": "3.9.1"
  }
 },
 "nbformat": 4,
 "nbformat_minor": 4
}
