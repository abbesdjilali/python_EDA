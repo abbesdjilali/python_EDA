{
 "cells": [
  {
   "cell_type": "code",
   "execution_count": 16,
   "metadata": {},
   "outputs": [],
   "source": [
    "import numpy as np"
   ]
  },
  {
   "cell_type": "markdown",
   "metadata": {},
   "source": [
    "# Quelques fonctions utiles"
   ]
  },
  {
   "cell_type": "markdown",
   "metadata": {},
   "source": [
    "On a créé un tableau 2D `rdm_mat` contenant des valeurs aléatoires. "
   ]
  },
  {
   "cell_type": "code",
   "execution_count": 11,
   "metadata": {},
   "outputs": [
    {
     "data": {
      "text/plain": [
       "array([[0.01779879, 0.55531586, 0.84321718, 0.67929933, 0.53022998],\n",
       "       [0.03194402, 0.78026528, 0.04631272, 0.87404648, 0.93401492]])"
      ]
     },
     "execution_count": 11,
     "metadata": {},
     "output_type": "execute_result"
    }
   ],
   "source": [
    "rdm_mat = np.random.rand(2,5)\n",
    "rdm_mat"
   ]
  },
  {
   "cell_type": "markdown",
   "metadata": {},
   "source": [
    "Donner le type de la variable rdm_mat"
   ]
  },
  {
   "cell_type": "code",
   "execution_count": 12,
   "metadata": {},
   "outputs": [
    {
     "data": {
      "text/plain": [
       "dtype('float64')"
      ]
     },
     "execution_count": 12,
     "metadata": {},
     "output_type": "execute_result"
    }
   ],
   "source": [
    "rdm_mat.dtype"
   ]
  },
  {
   "cell_type": "markdown",
   "metadata": {},
   "source": [
    "Donner la somme des éléments de ce tableau 2D"
   ]
  },
  {
   "cell_type": "code",
   "execution_count": 13,
   "metadata": {},
   "outputs": [
    {
     "data": {
      "text/plain": [
       "5.292444563609422"
      ]
     },
     "execution_count": 13,
     "metadata": {},
     "output_type": "execute_result"
    }
   ],
   "source": [
    "rdm_mat.sum()"
   ]
  },
  {
   "cell_type": "markdown",
   "metadata": {},
   "source": [
    "Faire en sorte de récupérer la valeur maximale sur chaque ligne (sans boucles) avec la fonction np.max"
   ]
  },
  {
   "cell_type": "code",
   "execution_count": 24,
   "metadata": {},
   "outputs": [
    {
     "data": {
      "text/plain": [
       "array([0.84321718, 0.93401492])"
      ]
     },
     "execution_count": 24,
     "metadata": {},
     "output_type": "execute_result"
    }
   ],
   "source": [
    "rdm_mat.max(axis=1)"
   ]
  },
  {
   "cell_type": "markdown",
   "metadata": {},
   "source": [
    "Faire de même pour récupérer la valeur maximum pour chaque colonne (sans boucles)"
   ]
  },
  {
   "cell_type": "code",
   "execution_count": 25,
   "metadata": {},
   "outputs": [
    {
     "data": {
      "text/plain": [
       "array([0.03194402, 0.78026528, 0.84321718, 0.87404648, 0.93401492])"
      ]
     },
     "execution_count": 25,
     "metadata": {},
     "output_type": "execute_result"
    }
   ],
   "source": [
    "rdm_mat.max(axis=0)"
   ]
  },
  {
   "cell_type": "markdown",
   "metadata": {},
   "source": [
    "Faire la même chose (max des lignes) en définissant un tableau avec une boucle for et la fonction max de numpy"
   ]
  },
  {
   "cell_type": "code",
   "execution_count": 26,
   "metadata": {},
   "outputs": [],
   "source": []
  },
  {
   "cell_type": "code",
   "execution_count": null,
   "metadata": {},
   "outputs": [],
   "source": []
  },
  {
   "cell_type": "code",
   "execution_count": null,
   "metadata": {},
   "outputs": [],
   "source": []
  },
  {
   "cell_type": "markdown",
   "metadata": {},
   "source": [
    "On crée un vecteur aléatoire de taille 100 `rdm_vect`"
   ]
  },
  {
   "cell_type": "code",
   "execution_count": 14,
   "metadata": {},
   "outputs": [
    {
     "data": {
      "text/plain": [
       "(100,)"
      ]
     },
     "execution_count": 14,
     "metadata": {},
     "output_type": "execute_result"
    }
   ],
   "source": [
    "rdm_vect = np.random.randn(100)\n",
    "\n",
    "rdm_vect.shape"
   ]
  },
  {
   "cell_type": "markdown",
   "metadata": {},
   "source": [
    "Récupérer la position de la valeur maximale du vecteur avec la méthode np.argmax"
   ]
  },
  {
   "cell_type": "code",
   "execution_count": 21,
   "metadata": {},
   "outputs": [
    {
     "data": {
      "text/plain": [
       "3.6237289376226296"
      ]
     },
     "execution_count": 21,
     "metadata": {},
     "output_type": "execute_result"
    }
   ],
   "source": [
    "rdm_vect[rdm_vect.argmax()]"
   ]
  },
  {
   "cell_type": "markdown",
   "metadata": {},
   "source": [
    "Afficher cette valeur "
   ]
  },
  {
   "cell_type": "code",
   "execution_count": 22,
   "metadata": {},
   "outputs": [
    {
     "data": {
      "text/plain": [
       "array([[-0.32271851, -1.30947404, -0.78699366,  0.44810398, -0.61908701,\n",
       "         1.52047678,  0.49554002,  0.4995177 ,  0.43828136,  0.99736678],\n",
       "       [ 0.1823755 , -0.35228   , -0.69627674, -0.6814249 , -0.32549532,\n",
       "         1.00706792,  1.94069103, -0.74940345,  1.31224586, -0.29163824],\n",
       "       [-0.21706351, -0.13623168, -0.23613443, -1.52932837, -1.38515599,\n",
       "        -0.32547114, -0.5185689 , -0.08002206,  0.02686665, -0.37108143],\n",
       "       [ 2.0109664 , -0.70797602,  0.46706332, -2.00816686,  0.10689936,\n",
       "        -1.5681805 ,  1.21873625,  2.19954811,  1.95207053, -0.31440311],\n",
       "       [ 0.28186663,  0.86635473, -0.13564014, -1.97473325,  0.39807422,\n",
       "         0.2808629 ,  0.28491106,  2.05147832,  0.23020395, -0.44686092],\n",
       "       [ 0.01653529, -0.19146954,  0.43818237,  0.36728185, -1.23909084,\n",
       "        -2.25021984,  0.1995405 ,  3.62372894, -0.84442615, -1.70095528],\n",
       "       [-1.42309026, -0.70406863, -0.43204859,  0.54361151,  1.70255897,\n",
       "         0.89525894,  1.2468002 ,  0.07405783,  0.37230175, -1.26624071],\n",
       "       [ 1.0370498 , -1.12726382,  0.39052474, -0.21463628,  1.00167837,\n",
       "        -0.93762181,  0.55463466, -0.32865669, -0.35911788, -1.12275334],\n",
       "       [-0.04150441,  1.06888801, -1.49064315,  0.75035747,  0.42857396,\n",
       "        -0.78203336, -0.63853398, -0.09773292,  0.48060002, -0.68035103],\n",
       "       [-1.06275993, -0.00628722,  0.70321279, -1.01893429,  1.19086418,\n",
       "         0.35915784, -0.45064042,  0.68979063,  1.81652125,  0.14371547]])"
      ]
     },
     "execution_count": 22,
     "metadata": {},
     "output_type": "execute_result"
    }
   ],
   "source": [
    "rdm_vect.reshape(10,10)"
   ]
  },
  {
   "cell_type": "markdown",
   "metadata": {},
   "source": [
    "Convertir le vecteur en un tableau 10, 10"
   ]
  },
  {
   "cell_type": "code",
   "execution_count": 20,
   "metadata": {},
   "outputs": [
    {
     "data": {
      "text/plain": [
       "array([[-2.99441404e-01,  1.78419461e+00,  1.62824730e+00,\n",
       "         5.76998680e-01, -1.00798820e+00, -1.17629307e-01,\n",
       "        -9.59793928e-01,  2.51709966e+00, -4.57689923e-01,\n",
       "         5.64083233e-01],\n",
       "       [ 1.08857553e+00,  1.25553582e+00,  1.41174036e+00,\n",
       "         7.04405054e-01,  1.76417213e+00,  2.95989674e-01,\n",
       "        -2.48375632e-01, -2.73836034e-01, -1.54983085e+00,\n",
       "         6.81613252e-01],\n",
       "       [-2.30990058e-04, -4.59307174e-01, -2.76918402e-01,\n",
       "         1.39001379e-01, -3.43068545e-01,  1.38215348e+00,\n",
       "         2.21448409e-01,  1.34330582e+00, -3.28983492e-01,\n",
       "        -1.48319122e+00],\n",
       "       [ 6.03851209e-02,  4.42199292e-01, -1.96886665e+00,\n",
       "        -3.67291142e-01, -5.92191022e-01, -1.07593701e+00,\n",
       "        -9.94270773e-01,  1.75063721e+00,  1.02451250e+00,\n",
       "        -5.22313882e-03],\n",
       "       [ 1.35937353e+00,  1.37572412e+00, -1.26344802e+00,\n",
       "        -2.74771048e-01,  2.38997913e-01, -7.38658517e-01,\n",
       "         1.31298051e+00,  1.60500160e-01,  1.03054547e-01,\n",
       "         1.03893725e+00],\n",
       "       [-3.98182647e-01, -2.59133869e+00,  9.32274910e-01,\n",
       "        -1.22843844e+00, -6.85106029e-01, -4.63739591e-01,\n",
       "        -5.60599024e-02, -2.27276744e-01, -1.73552516e+00,\n",
       "        -7.30992666e-01],\n",
       "       [-9.16355398e-01, -7.24696882e-01, -6.31729340e-01,\n",
       "        -1.11432900e-01, -3.47884718e-01,  1.76089543e-01,\n",
       "         1.05032011e-01,  2.11527609e+00,  2.00573881e-01,\n",
       "         1.86640364e+00],\n",
       "       [-1.25632020e+00,  1.16839002e+00,  3.80515864e-01,\n",
       "        -5.84613669e-02, -1.93599915e+00,  4.63018686e-01,\n",
       "        -9.13881056e-01, -2.91268450e-02,  1.07591365e-01,\n",
       "         4.57612288e-01],\n",
       "       [-5.24577378e-01, -2.33774687e-01,  9.66313178e-02,\n",
       "        -5.63094439e-01,  8.13719865e-01, -1.30332652e-01,\n",
       "         8.92711905e-01,  3.67957145e-01,  7.40953965e-01,\n",
       "        -2.88723130e-01],\n",
       "       [-1.57250892e+00,  1.28364476e+00, -1.00251670e+00,\n",
       "         1.29945135e+00,  1.36026717e+00,  2.10829296e-01,\n",
       "        -4.84515710e-01,  2.26883549e+00,  1.98624255e-01,\n",
       "        -5.33793040e-01]])"
      ]
     },
     "execution_count": 20,
     "metadata": {},
     "output_type": "execute_result"
    }
   ],
   "source": []
  },
  {
   "cell_type": "markdown",
   "metadata": {},
   "source": [
    "Calculer la moyenne de chaque ligne de ce tableau (sans boucles)"
   ]
  },
  {
   "cell_type": "code",
   "execution_count": 21,
   "metadata": {},
   "outputs": [
    {
     "data": {
      "text/plain": [
       "array([-2.45928276e-01,  3.30057119e-01, -6.94069374e-02,  1.16367130e-02,\n",
       "       -7.35080583e-02,  1.78359994e-04, -1.12472416e-01,  9.99337195e-01,\n",
       "       -1.69671892e-01,  1.56672647e-01])"
      ]
     },
     "execution_count": 21,
     "metadata": {},
     "output_type": "execute_result"
    }
   ],
   "source": []
  },
  {
   "cell_type": "markdown",
   "metadata": {},
   "source": [
    "Faire un tableau qui contient la moyenne de chaque colonne du tableau "
   ]
  },
  {
   "cell_type": "markdown",
   "metadata": {},
   "source": [
    "Calculer la somme de chaque colonne (sans boucles)"
   ]
  },
  {
   "cell_type": "code",
   "execution_count": 23,
   "metadata": {},
   "outputs": [
    {
     "data": {
      "text/plain": [
       "array([ 4.22808072,  5.1299893 ,  0.19420926, -1.72604562,  3.31269044,\n",
       "       -7.18438496,  1.73127593, -1.61666039,  1.17147191,  3.02831796])"
      ]
     },
     "execution_count": 23,
     "metadata": {},
     "output_type": "execute_result"
    }
   ],
   "source": []
  },
  {
   "cell_type": "markdown",
   "metadata": {},
   "source": [
    "Calculer la somme pour chaque ligne (sans boucles)"
   ]
  },
  {
   "cell_type": "code",
   "execution_count": 24,
   "metadata": {},
   "outputs": [
    {
     "data": {
      "text/plain": [
       "array([-2.45928276e+00,  3.30057119e+00, -6.94069374e-01,  1.16367130e-01,\n",
       "       -7.35080583e-01,  1.78359994e-03, -1.12472416e+00,  9.99337195e+00,\n",
       "       -1.69671892e+00,  1.56672647e+00])"
      ]
     },
     "execution_count": 24,
     "metadata": {},
     "output_type": "execute_result"
    }
   ],
   "source": []
  },
  {
   "cell_type": "code",
   "execution_count": null,
   "metadata": {},
   "outputs": [],
   "source": []
  }
 ],
 "metadata": {
  "kernelspec": {
   "display_name": "Python 3",
   "language": "python",
   "name": "python3"
  },
  "language_info": {
   "codemirror_mode": {
    "name": "ipython",
    "version": 3
   },
   "file_extension": ".py",
   "mimetype": "text/x-python",
   "name": "python",
   "nbconvert_exporter": "python",
   "pygments_lexer": "ipython3",
   "version": "3.9.1"
  },
  "latex_envs": {
   "LaTeX_envs_menu_present": true,
   "autoclose": false,
   "autocomplete": true,
   "bibliofile": "biblio.bib",
   "cite_by": "apalike",
   "current_citInitial": 1,
   "eqLabelWithNumbers": true,
   "eqNumInitial": 1,
   "hotkeys": {
    "equation": "Ctrl-E",
    "itemize": "Ctrl-I"
   },
   "labels_anchors": false,
   "latex_user_defs": false,
   "report_style_numbering": false,
   "user_envs_cfg": false
  },
  "toc": {
   "base_numbering": 1,
   "nav_menu": {},
   "number_sections": true,
   "sideBar": true,
   "skip_h1_title": false,
   "title_cell": "Table of Contents",
   "title_sidebar": "Contents",
   "toc_cell": false,
   "toc_position": {},
   "toc_section_display": true,
   "toc_window_display": false
  },
  "varInspector": {
   "cols": {
    "lenName": 16,
    "lenType": 16,
    "lenVar": 40
   },
   "kernels_config": {
    "python": {
     "delete_cmd_postfix": "",
     "delete_cmd_prefix": "del ",
     "library": "var_list.py",
     "varRefreshCmd": "print(var_dic_list())"
    },
    "r": {
     "delete_cmd_postfix": ") ",
     "delete_cmd_prefix": "rm(",
     "library": "var_list.r",
     "varRefreshCmd": "cat(var_dic_list()) "
    }
   },
   "types_to_exclude": [
    "module",
    "function",
    "builtin_function_or_method",
    "instance",
    "_Feature"
   ],
   "window_display": false
  }
 },
 "nbformat": 4,
 "nbformat_minor": 2
}
