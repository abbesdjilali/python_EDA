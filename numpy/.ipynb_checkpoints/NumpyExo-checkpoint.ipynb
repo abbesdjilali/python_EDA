{
 "cells": [
  {
   "cell_type": "markdown",
   "metadata": {},
   "source": [
    "# Numpy exercices pratiques\n",
    "Ce notebook à pour objectif de vous faire pratiquer numpy dans toute sa généralité. \n",
    "Vous avez donc une liste de questions à faire ! Il ne faut pas hésiter à faire des recherches sur google ainsi que voir la [documentation officielle](https://docs.scipy.org/doc/numpy-1.13.0/reference/). "
   ]
  },
  {
   "cell_type": "markdown",
   "metadata": {},
   "source": [
    "#### Q1 : Importer le package numpy "
   ]
  },
  {
   "cell_type": "code",
   "execution_count": 2,
   "metadata": {},
   "outputs": [],
   "source": [
    "import numpy"
   ]
  },
  {
   "cell_type": "markdown",
   "metadata": {},
   "source": [
    "#### Q2 : Afficher la version de numpy et la configuration "
   ]
  },
  {
   "cell_type": "code",
   "execution_count": 9,
   "metadata": {},
   "outputs": [
    {
     "data": {
      "text/plain": [
       "('1.19.4', '1.19.4')"
      ]
     },
     "execution_count": 9,
     "metadata": {},
     "output_type": "execute_result"
    }
   ],
   "source": [
    "numpy.__version__,numpy.version.version"
   ]
  },
  {
   "cell_type": "markdown",
   "metadata": {},
   "source": [
    "#### Q3 : Créer un vecteur nul de taille 10"
   ]
  },
  {
   "cell_type": "code",
   "execution_count": 22,
   "metadata": {},
   "outputs": [],
   "source": [
    "ar=numpy.zeros(10)"
   ]
  },
  {
   "cell_type": "markdown",
   "metadata": {},
   "source": [
    "#### Q4 : Créer un vecteur null de taille 10 et affecter la valeur 1 à la 4ème place (index 4) du vecteur"
   ]
  },
  {
   "cell_type": "code",
   "execution_count": 23,
   "metadata": {},
   "outputs": [
    {
     "data": {
      "text/plain": [
       "array([0., 0., 0., 0., 1., 0., 0., 0., 0., 0.])"
      ]
     },
     "execution_count": 23,
     "metadata": {},
     "output_type": "execute_result"
    }
   ],
   "source": [
    "ar[4]=1\n",
    "ar"
   ]
  },
  {
   "cell_type": "markdown",
   "metadata": {},
   "source": [
    "#### Q5 : Créer un vecteur Z de 40 valeurs allant de 10 à 50 "
   ]
  },
  {
   "cell_type": "code",
   "execution_count": 25,
   "metadata": {},
   "outputs": [
    {
     "data": {
      "text/plain": [
       "array([10, 11, 12, 13, 14, 15, 16, 17, 18, 19, 20, 21, 22, 23, 24, 25, 26,\n",
       "       27, 28, 29, 30, 31, 32, 33, 34, 35, 36, 37, 38, 39, 40, 41, 42, 43,\n",
       "       44, 45, 46, 47, 48, 49])"
      ]
     },
     "execution_count": 25,
     "metadata": {},
     "output_type": "execute_result"
    }
   ],
   "source": [
    "Z=numpy.arange(10,50)\n",
    "Z"
   ]
  },
  {
   "cell_type": "markdown",
   "metadata": {},
   "source": [
    "#### Q6 : Inverser Z (le premier élément devient donc le dernier)"
   ]
  },
  {
   "cell_type": "code",
   "execution_count": 31,
   "metadata": {},
   "outputs": [
    {
     "data": {
      "text/plain": [
       "array([49, 48, 47, 46, 45, 44, 43, 42, 41, 40, 39, 38, 37, 36, 35, 34, 33,\n",
       "       32, 31, 30, 29, 28, 27, 26, 25, 24, 23, 22, 21, 20, 19, 18, 17, 16,\n",
       "       15, 14, 13, 12, 11, 10])"
      ]
     },
     "execution_count": 31,
     "metadata": {},
     "output_type": "execute_result"
    }
   ],
   "source": [
    "Z = numpy.flipud(Z)\n",
    "Z"
   ]
  },
  {
   "cell_type": "markdown",
   "metadata": {},
   "source": [
    "#### Q7 : Créer une matrice 3x3 avec des valeurs comprise entre 0 et 8 "
   ]
  },
  {
   "cell_type": "code",
   "execution_count": 45,
   "metadata": {},
   "outputs": [
    {
     "data": {
      "text/plain": [
       "array([[5, 3, 0],\n",
       "       [7, 1, 5],\n",
       "       [4, 0, 0]])"
      ]
     },
     "execution_count": 45,
     "metadata": {},
     "output_type": "execute_result"
    }
   ],
   "source": [
    "M3 = numpy.random.randint(8, size=(3,3))\n",
    "M3"
   ]
  },
  {
   "cell_type": "markdown",
   "metadata": {},
   "source": [
    "#### Q8 : Créer une matrice identié 3x3 "
   ]
  },
  {
   "cell_type": "code",
   "execution_count": 54,
   "metadata": {},
   "outputs": [
    {
     "data": {
      "text/plain": [
       "array([[1, 0, 0],\n",
       "       [1, 2, 2],\n",
       "       [1, 2, 2]])"
      ]
     },
     "execution_count": 54,
     "metadata": {},
     "output_type": "execute_result"
    }
   ],
   "source": [
    "M33 = numpy.random.randint(3,size=(3,3))\n",
    "M33"
   ]
  },
  {
   "cell_type": "markdown",
   "metadata": {},
   "source": [
    "#### Q9 : Créer une matrice 3x3x3 avec des valeurs random "
   ]
  },
  {
   "cell_type": "code",
   "execution_count": 51,
   "metadata": {},
   "outputs": [
    {
     "data": {
      "text/plain": [
       "array([[[0.88345287, 0.02660735, 0.11531618],\n",
       "        [0.66588383, 0.59845364, 0.70692355],\n",
       "        [0.1676193 , 0.53921193, 0.7659813 ]],\n",
       "\n",
       "       [[0.52454309, 0.79547208, 0.0916928 ],\n",
       "        [0.92249282, 0.97693615, 0.59633612],\n",
       "        [0.3321537 , 0.59647064, 0.31929559]],\n",
       "\n",
       "       [[0.0264167 , 0.82472547, 0.4788242 ],\n",
       "        [0.85148582, 0.8728151 , 0.38621865],\n",
       "        [0.16463128, 0.18856009, 0.61469898]]])"
      ]
     },
     "execution_count": 51,
     "metadata": {},
     "output_type": "execute_result"
    }
   ],
   "source": [
    "M333 = numpy.random.rand(3,3,3)\n",
    "M333"
   ]
  },
  {
   "cell_type": "markdown",
   "metadata": {},
   "source": [
    "#### Q10 : Créer une matrice 10x10 avec des valeurs random et afficher le minimum et maximum de cette matrice"
   ]
  },
  {
   "cell_type": "code",
   "execution_count": 56,
   "metadata": {},
   "outputs": [
    {
     "data": {
      "text/plain": [
       "(0, 9)"
      ]
     },
     "execution_count": 56,
     "metadata": {},
     "output_type": "execute_result"
    }
   ],
   "source": [
    "M10 = numpy.random.randint(10,size=(10,10))\n",
    "M10.argmin(),M10.argmax()"
   ]
  },
  {
   "cell_type": "markdown",
   "metadata": {},
   "source": [
    "#### Q11 : Créer une matrice 5x5 avec les valeurs 1,2,3,4 en dessous de la diagonale "
   ]
  },
  {
   "cell_type": "code",
   "execution_count": 57,
   "metadata": {},
   "outputs": [
    {
     "data": {
      "text/plain": [
       "array([[1, 0, 0, 0],\n",
       "       [0, 2, 0, 0],\n",
       "       [0, 0, 3, 0],\n",
       "       [0, 0, 0, 4]])"
      ]
     },
     "execution_count": 57,
     "metadata": {},
     "output_type": "execute_result"
    }
   ],
   "source": [
    "diag=numpy.diag(numpy.array([1, 2,3,4]))\n",
    "diag"
   ]
  },
  {
   "cell_type": "markdown",
   "metadata": {},
   "source": [
    "#### Q12 : Créer une liste random de taille 5 et donner la somme de ses éléments  "
   ]
  },
  {
   "cell_type": "code",
   "execution_count": 61,
   "metadata": {},
   "outputs": [
    {
     "data": {
      "text/plain": [
       "2.647673227792094"
      ]
     },
     "execution_count": 61,
     "metadata": {},
     "output_type": "execute_result"
    }
   ],
   "source": [
    "somme = numpy.random.rand(5).sum()\n",
    "somme"
   ]
  },
  {
   "cell_type": "markdown",
   "metadata": {},
   "source": [
    "#### Q13 : Créer une liste random de taille 5 et donner la moyenne de ses éléments"
   ]
  },
  {
   "cell_type": "code",
   "execution_count": 62,
   "metadata": {},
   "outputs": [
    {
     "data": {
      "text/plain": [
       "2.647673227792094"
      ]
     },
     "execution_count": 62,
     "metadata": {},
     "output_type": "execute_result"
    }
   ],
   "source": [
    "somme.mean()"
   ]
  },
  {
   "cell_type": "markdown",
   "metadata": {},
   "source": [
    "#### Q14 : En utilisant une fonction, donner la taille de la liste suivante :\n",
    "```python \n",
    "l = [x for x in range(11)]\n",
    "```"
   ]
  },
  {
   "cell_type": "code",
   "execution_count": 75,
   "metadata": {},
   "outputs": [
    {
     "data": {
      "text/plain": [
       "11"
      ]
     },
     "execution_count": 75,
     "metadata": {},
     "output_type": "execute_result"
    }
   ],
   "source": [
    "l = [x for x in range(11)]\n",
    "len(l)"
   ]
  },
  {
   "cell_type": "markdown",
   "metadata": {},
   "source": [
    "#### Q15 : Créer un tableau de taille 10 avec des valeurs comprises entre 0 et 1 EXCLUS "
   ]
  },
  {
   "cell_type": "code",
   "execution_count": 84,
   "metadata": {},
   "outputs": [
    {
     "data": {
      "text/plain": [
       "array([4.41645471, 6.57819053, 7.17401649, 0.99785884, 6.60124622,\n",
       "       2.78932256, 7.46215929, 8.42316445, 8.51883273, 7.56266861])"
      ]
     },
     "execution_count": 84,
     "metadata": {},
     "output_type": "execute_result"
    }
   ],
   "source": [
    "tab10 = numpy.random.rand(10)*10\n",
    "tab10"
   ]
  },
  {
   "cell_type": "markdown",
   "metadata": {},
   "source": [
    "#### Q16 : Soit deux tableau A et B de dimension 1 et de taille 5, créer A et B et afficher True si A et B sont égaux False sinon"
   ]
  },
  {
   "cell_type": "code",
   "execution_count": 79,
   "metadata": {},
   "outputs": [
    {
     "data": {
      "text/plain": [
       "False"
      ]
     },
     "execution_count": 79,
     "metadata": {},
     "output_type": "execute_result"
    }
   ],
   "source": [
    "a = numpy.array([1,2,3,4,5])\n",
    "b = numpy.array([1,4,6,7,8])\n",
    "(a==b).all(),numpy.array_equal(a,b)"
   ]
  },
  {
   "cell_type": "markdown",
   "metadata": {},
   "source": [
    "#### Q17 : Convertir un tableau de float32 de dimension 1 et de taille 10 en un tableau de meme taille et dimension mais de type int32"
   ]
  },
  {
   "cell_type": "code",
   "execution_count": 86,
   "metadata": {},
   "outputs": [
    {
     "data": {
      "text/plain": [
       "(array([1.09795183, 8.35441176, 7.83699933, 0.12100926, 5.99442606,\n",
       "        6.53068226, 5.17160587, 1.15820253, 4.90405296, 4.38313926]),\n",
       " array([1, 8, 7, 0, 5, 6, 5, 1, 4, 4]))"
      ]
     },
     "execution_count": 86,
     "metadata": {},
     "output_type": "execute_result"
    }
   ],
   "source": [
    "f = numpy.random.rand(10)*10\n",
    "f,f.astype(int)"
   ]
  },
  {
   "cell_type": "markdown",
   "metadata": {},
   "source": [
    "#### Q18 : Normaliser une matrice random 5x5 \n",
    "La normalisation d'un nombre X consiste à lui retirer sa moyenne et a diviser le tout par son écart type "
   ]
  },
  {
   "cell_type": "code",
   "execution_count": 93,
   "metadata": {},
   "outputs": [
    {
     "data": {
      "text/plain": [
       "(array([[0.28144899, 0.18402695, 0.69153646, 0.14503929, 0.82358014],\n",
       "        [0.19521818, 0.21854448, 0.36450963, 0.40203259, 0.0142368 ],\n",
       "        [0.88716215, 0.62774028, 0.70845222, 0.57761234, 0.6163048 ],\n",
       "        [0.75424612, 0.09930296, 0.89247394, 0.1902663 , 0.87296601],\n",
       "        [0.94346969, 0.66961008, 0.74398912, 0.52318977, 0.98457198]]),\n",
       " array([[-0.86326658, -1.19305934,  0.52496005, -1.32504022,  0.97195382],\n",
       "        [-1.15517481, -1.07621071, -0.58209001, -0.45506742, -1.76783236],\n",
       "        [ 1.18719144,  0.30899744,  0.58222321,  0.13930452,  0.2702861 ],\n",
       "        [ 0.73724457, -1.47986669,  1.20517288, -1.17193792,  1.1391347 ],\n",
       "        [ 1.37780352,  0.45073492,  0.70252261, -0.04492656,  1.51694285]]))"
      ]
     },
     "execution_count": 93,
     "metadata": {},
     "output_type": "execute_result"
    }
   ],
   "source": [
    "X= numpy.random.random((5,5))\n",
    "moy = X.mean()\n",
    "ecart_type = numpy.std(X)\n",
    "X_normaliser = ( X - moy ) / ecart_type\n",
    "X,X_normaliser"
   ]
  },
  {
   "cell_type": "markdown",
   "metadata": {},
   "source": [
    "#### Q19 : Créer une matrice random `M` 2x2 et donner sa transposer \n",
    "L'opération de transposition dans une matrice consiste à échanger les lignes et le colonnes. "
   ]
  },
  {
   "cell_type": "code",
   "execution_count": 96,
   "metadata": {},
   "outputs": [
    {
     "data": {
      "text/plain": [
       "(array([[0.82175079, 0.912099  ],\n",
       "        [0.72015255, 0.05281028]]),\n",
       " array([[0.82175079, 0.72015255],\n",
       "        [0.912099  , 0.05281028]]))"
      ]
     },
     "execution_count": 96,
     "metadata": {},
     "output_type": "execute_result"
    }
   ],
   "source": [
    "Y= numpy.random.random((2,2))\n",
    "Y_transposer = numpy.transpose(Y)\n",
    "Y,Y_transposer"
   ]
  },
  {
   "cell_type": "markdown",
   "metadata": {},
   "source": [
    "#### Q20 : Écrire un petit script qui remplace un élément au hasard dans une matrice de dimension NxN"
   ]
  },
  {
   "cell_type": "code",
   "execution_count": 196,
   "metadata": {},
   "outputs": [
    {
     "data": {
      "text/plain": [
       "array([[0.21597783, 0.37127686, 0.16119605, 0.69811837],\n",
       "       [0.11887456, 0.26441468, 0.53564882, 0.01323538],\n",
       "       [3.        , 0.48040416, 0.19059274, 0.7045916 ],\n",
       "       [0.92086278, 0.63264266, 0.57838473, 0.67130362]])"
      ]
     },
     "execution_count": 196,
     "metadata": {},
     "output_type": "execute_result"
    }
   ],
   "source": [
    "#creer matrice de dimension NxN \n",
    "def creerMatrice(N):\n",
    "    return numpy.random.random((N,N))\n",
    "#ar = array dimension NxN\n",
    "def remplaceRandElmMatrice(ar):\n",
    "    ar[numpy.random.randint(len(ar)),numpy.random.randint(len(ar))]=3\n",
    "    return ar\n",
    "\n",
    "ar = creerMatrice(4)\n",
    "remplaceRandElmMatrice(ar)\n"
   ]
  },
  {
   "cell_type": "markdown",
   "metadata": {},
   "source": [
    "#### Q21 : Considérons une matrice de dimension (5,5,3), écrire un script qui multiplie cette matrice par une matrice de dimension (5,5)"
   ]
  },
  {
   "cell_type": "code",
   "execution_count": 224,
   "metadata": {},
   "outputs": [
    {
     "data": {
      "text/plain": [
       "(array([[[7, 0, 7],\n",
       "         [1, 7, 5],\n",
       "         [6, 4, 1],\n",
       "         [5, 1, 4],\n",
       "         [8, 4, 8]],\n",
       " \n",
       "        [[9, 9, 1],\n",
       "         [6, 9, 1],\n",
       "         [9, 0, 4],\n",
       "         [6, 6, 9],\n",
       "         [9, 7, 8]],\n",
       " \n",
       "        [[7, 9, 2],\n",
       "         [5, 2, 1],\n",
       "         [4, 2, 2],\n",
       "         [5, 7, 1],\n",
       "         [9, 8, 6]],\n",
       " \n",
       "        [[6, 2, 8],\n",
       "         [0, 9, 9],\n",
       "         [4, 2, 3],\n",
       "         [7, 0, 9],\n",
       "         [7, 4, 7]],\n",
       " \n",
       "        [[2, 2, 6],\n",
       "         [3, 6, 5],\n",
       "         [4, 1, 4],\n",
       "         [1, 7, 2],\n",
       "         [2, 3, 5]]]),\n",
       " array([[4, 0, 4, 0, 1],\n",
       "        [1, 9, 2, 0, 1],\n",
       "        [3, 3, 5, 8, 2],\n",
       "        [9, 9, 4, 4, 2],\n",
       "        [0, 7, 4, 1, 7]]),\n",
       " array([[28,  0, 28, ..., 28,  7, 49],\n",
       "        [ 0,  0,  0, ...,  0,  0,  0],\n",
       "        [28,  0, 28, ..., 28,  7, 49],\n",
       "        ...,\n",
       "        [ 8,  0,  8, ...,  8,  2, 14],\n",
       "        [12,  0, 12, ..., 12,  3, 21],\n",
       "        [20,  0, 20, ..., 20,  5, 35]]))"
      ]
     },
     "execution_count": 224,
     "metadata": {},
     "output_type": "execute_result"
    }
   ],
   "source": [
    "M1 = numpy.random.randint(10,size=(5,5,3))\n",
    "M2 = numpy.random.randint(10,size=(5,5))\n",
    "M3 = numpy.outer(M1,M2)\n",
    "M1,M2,M3"
   ]
  },
  {
   "cell_type": "code",
   "execution_count": null,
   "metadata": {},
   "outputs": [],
   "source": []
  },
  {
   "cell_type": "code",
   "execution_count": null,
   "metadata": {},
   "outputs": [],
   "source": []
  },
  {
   "cell_type": "code",
   "execution_count": null,
   "metadata": {},
   "outputs": [],
   "source": []
  }
 ],
 "metadata": {
  "kernelspec": {
   "display_name": "Python 3",
   "language": "python",
   "name": "python3"
  },
  "language_info": {
   "codemirror_mode": {
    "name": "ipython",
    "version": 3
   },
   "file_extension": ".py",
   "mimetype": "text/x-python",
   "name": "python",
   "nbconvert_exporter": "python",
   "pygments_lexer": "ipython3",
   "version": "3.9.1"
  }
 },
 "nbformat": 4,
 "nbformat_minor": 2
}
