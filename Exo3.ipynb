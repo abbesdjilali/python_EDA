{
 "cells": [
  {
   "cell_type": "code",
   "execution_count": 1,
   "metadata": {},
   "outputs": [
    {
     "name": "stdout",
     "output_type": "stream",
     "text": [
      "Nom :  Ilyass\n",
      "Prénom :  Math\n",
      "Date de naissance :  1 / 7 / 1982\n",
      "Nom :  Ilyass\n",
      "Prénom :  Math\n",
      "Date de naissance :  1 / 7 / 1985\n",
      "Salaire :  7865.55\n",
      "Nom :  Ilyass\n",
      "Prénom :  Math\n",
      "Date de naissance :  1 / 7 / 1988\n",
      "Salaire :  7865.55\n",
      "Service :  Ressource humaine\n"
     ]
    }
   ],
   "source": [
    "class DateNaissance:\n",
    "    def __init__(self,jour,mois,annee):\n",
    "        self.jour = jour;\n",
    "        self.mois = mois;\n",
    "        self.annee = annee;\n",
    "\n",
    "    def affiche(self):\n",
    "        return str(self.jour) + \" / \"+ str(self.mois)+\" / \"+str(self.annee)\n",
    "\n",
    "\n",
    "\n",
    "class Personne():\n",
    "    def __init__(self,nom,prenom,dateDeNaissance):\n",
    "        self.nom = nom\n",
    "        self.prenom = prenom\n",
    "        self.dateDeNaissance = dateDeNaissance\n",
    "\n",
    "    def afficher(self):\n",
    "        print(\"Nom : \",self.nom)\n",
    "        print(\"Prénom : \",self.prenom)\n",
    "        print(\"Date de naissance : \",self.dateDeNaissance.affiche())\n",
    "\n",
    "\n",
    "class Employe(Personne):\n",
    "    def __init__(self,nom,prenom,dateDeNaissance,salaire):\n",
    "        super().__init__(nom,prenom,dateDeNaissance)\n",
    "        self.salaire = salaire\n",
    "\n",
    "    def afficher(self):\n",
    "        print(\"Nom : \",self.nom)\n",
    "        print(\"Prénom : \",self.prenom)\n",
    "        print(\"Date de naissance : \",self.dateDeNaissance.affiche())\n",
    "        print(\"Salaire : \",round(self.salaire,2) )\n",
    "\n",
    "\n",
    "class Chef(Employe):\n",
    "    def __init__(self,nom,prenom,dateDeNaissance,salaire,service):\n",
    "        super().__init__(nom,prenom,dateDeNaissance,salaire)\n",
    "        self.service = service\n",
    "\n",
    "    def afficher(self):\n",
    "        print(\"Nom : \",self.nom)\n",
    "        print(\"Prénom : \",self.prenom)\n",
    "        print(\"Date de naissance : \",self.dateDeNaissance.affiche())\n",
    "        print(\"Salaire : \",round(self.salaire,2) )\n",
    "        print(\"Service : \",self.service)\n",
    "        \n",
    "        \n",
    "\n",
    "P=Personne(\"Ilyass\",\"Math\",DateNaissance(1,7,1982))\n",
    "P.afficher()\n",
    "E=Employe(\"Ilyass\",\"Math\",DateNaissance(1,7,1985),7865.548)\n",
    "E.afficher()\n",
    "Ch=Chef(\"Ilyass\",\"Math\",DateNaissance(1,7,1988),7865.548,\"Ressource humaine\")\n",
    "Ch.afficher()\n",
    "\n",
    "        \n",
    "        \n"
   ]
  },
  {
   "cell_type": "markdown",
   "metadata": {},
   "source": []
  }
 ],
 "metadata": {
  "kernelspec": {
   "display_name": "Python 3",
   "language": "python",
   "name": "python3"
  },
  "language_info": {
   "codemirror_mode": {
    "name": "ipython",
    "version": 3
   },
   "file_extension": ".py",
   "mimetype": "text/x-python",
   "name": "python",
   "nbconvert_exporter": "python",
   "pygments_lexer": "ipython3",
   "version": "3.9.1"
  }
 },
 "nbformat": 4,
 "nbformat_minor": 4
}
