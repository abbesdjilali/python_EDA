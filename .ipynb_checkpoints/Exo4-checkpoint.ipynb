{
 "cells": [
  {
   "cell_type": "code",
   "execution_count": 1,
   "metadata": {},
   "outputs": [
    {
     "name": "stdout",
     "output_type": "stream",
     "text": [
      "Lettre :\n",
      "Adresse destination:  Lille\n",
      "Adresse Expedition:  Paris\n",
      "Poids : 80.00 grammes\n",
      "Mode :  normal\n",
      "Format :  A4\n",
      "Prix : 0.20\n",
      "Colis :\n",
      "Adresse destination:  Marrakeche\n",
      "Adresse Expedition:  Barcelone\n",
      "Poids : 3500.00 grammes\n",
      "Mode :  expresse\n",
      "Volume :  2.25  litres\n",
      "Prix du timbre:  3.9375\n"
     ]
    }
   ],
   "source": [
    "class ObjetAEnvoyer:\n",
    "    def __init__(self,adresseDistinantion,adresseExpedition,poids,modeExpedition):\n",
    "        self.adresseDistinantion = adresseDistinantion\n",
    "        self.adresseExpedition=adresseExpedition\n",
    "        self.poids =poids\n",
    "        self.modeExpedition = modeExpedition\n",
    "\n",
    "\n",
    "\n",
    "class Lettre(ObjetAEnvoyer):\n",
    "    def __init__(self,adresseDistinantion,adresseExpedition,poids,modeExpedition,formatExpedition):\n",
    "        super().__init__(adresseDistinantion, adresseExpedition, poids, modeExpedition)\n",
    "        self.formatExpedition = formatExpedition\n",
    "        self.tarifA4 = 2.50\n",
    "        self.tarifA3 = 3.50\n",
    "        self.prix =  self.tarifA4 * 1.0 * (self.poids / 1000) if self.formatExpedition == \"A4\" else self.tarifA3 * 1.0 * self.poids * 1000\n",
    "\n",
    "\n",
    "    def calculTimbre(self):\n",
    "        return 2 * self.prix  if self.modeExpedition == \"expresse\" else self.prix\n",
    "\n",
    "    def ToString(self):\n",
    "        print(\"Lettre :\")\n",
    "        print(\"Adresse destination: \", self.adresseDistinantion);\n",
    "        print(\"Adresse Expedition: \", self.adresseExpedition);\n",
    "        print(\"Poids : %.2f\"% float(self.poids), \"grammes\");\n",
    "        print(\"Mode : \",self.modeExpedition)\n",
    "        print(\"Format : \",self.formatExpedition)\n",
    "        print(\"Prix : %.2f\"% self.calculTimbre());\n",
    "\n",
    "\n",
    "\n",
    "\n",
    "\n",
    "\n",
    "class Colis(ObjetAEnvoyer):\n",
    "    def __init__(self,adresseDistinantion,adresseExpedition,poids,modeExpedition,volume):\n",
    "        super().__init__(adresseDistinantion,adresseExpedition,poids,modeExpedition)\n",
    "        self.volume = volume\n",
    "        self.prix = 0.25 * self.volume * (self.poids / 1000)\n",
    "\n",
    "    def calculTimbre(self):\n",
    "        return 2 * self.prix if self.modeExpedition == \"expresse\" else self.prix\n",
    "\n",
    "    def ToString(self):\n",
    "        print(\"Colis :\")\n",
    "        print(\"Adresse destination: \", self.adresseDistinantion);\n",
    "        print(\"Adresse Expedition: \", self.adresseExpedition);\n",
    "        print(\"Poids : %.2f\"% float(self.poids), \"grammes\");\n",
    "        print(\"Mode : \",self.modeExpedition)\n",
    "        print(\"Volume : \",self.volume, \" litres\")\n",
    "        print(\"Prix du timbre: \", self.calculTimbre());\n",
    "        \n",
    "        \n",
    "        \n",
    "        \n",
    "        \n",
    "        \n",
    "L1=Lettre(\"Lille\",\"Paris\",80,\"normal\",\"A4\")\n",
    "L1.ToString()\n",
    "\n",
    "C1=Colis(\"Marrakeche\",\"Barcelone\",3500,\"expresse\",2.25)\n",
    "C1.ToString()"
   ]
  },
  {
   "cell_type": "code",
   "execution_count": null,
   "metadata": {},
   "outputs": [],
   "source": []
  }
 ],
 "metadata": {
  "kernelspec": {
   "display_name": "Python 3",
   "language": "python",
   "name": "python3"
  },
  "language_info": {
   "codemirror_mode": {
    "name": "ipython",
    "version": 3
   },
   "file_extension": ".py",
   "mimetype": "text/x-python",
   "name": "python",
   "nbconvert_exporter": "python",
   "pygments_lexer": "ipython3",
   "version": "3.9.1"
  }
 },
 "nbformat": 4,
 "nbformat_minor": 4
}
